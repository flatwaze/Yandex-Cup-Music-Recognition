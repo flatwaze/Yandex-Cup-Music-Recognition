{
 "cells": [
  {
   "cell_type": "code",
   "execution_count": 2,
   "metadata": {
    "execution": {
     "iopub.execute_input": "2024-11-04T20:02:15.361204Z",
     "iopub.status.busy": "2024-11-04T20:02:15.360280Z",
     "iopub.status.idle": "2024-11-04T20:02:15.384664Z",
     "shell.execute_reply": "2024-11-04T20:02:15.383491Z",
     "shell.execute_reply.started": "2024-11-04T20:02:15.361129Z"
    },
    "tags": []
   },
   "outputs": [],
   "source": [
    "import  numpy as np\n",
    "import pandas as pd\n",
    "import matplotlib.pyplot as plt\n",
    "%matplotlib inline\n",
    "\n",
    "import torch\n",
    "import torch.nn as nn\n",
    "import torch.nn.functional as f\n",
    "from torch.utils.data import DataLoader\n",
    "from torch.utils.data import Dataset\n",
    "from torchvision.utils import make_grid\n",
    "import torchvision.datasets as datasets\n",
    "import torchvision.transforms as transforms\n",
    "\n",
    "from tqdm.notebook import tqdm\n",
    "from IPython.display import clear_output"
   ]
  },
  {
   "cell_type": "code",
   "execution_count": 3,
   "metadata": {
    "execution": {
     "iopub.execute_input": "2024-11-04T20:02:17.414896Z",
     "iopub.status.busy": "2024-11-04T20:02:17.413769Z",
     "iopub.status.idle": "2024-11-04T20:02:17.442763Z",
     "shell.execute_reply": "2024-11-04T20:02:17.441544Z",
     "shell.execute_reply.started": "2024-11-04T20:02:17.414851Z"
    },
    "tags": []
   },
   "outputs": [],
   "source": [
    "class Block(nn.Module):\n",
    "    def __init__(self, in_channels, out_channels, stride=1, downsample=None):\n",
    "        super().__init__()\n",
    "        \n",
    "        self.downsample = downsample\n",
    "        self.relu = nn.ReLU()\n",
    "        \n",
    "        self.cl1 = nn.Sequential(\n",
    "            nn.Conv2d(in_channels, out_channels, 3, stride, 1),\n",
    "            nn.BatchNorm2d(out_channels),\n",
    "            nn.ReLU()\n",
    "        )\n",
    "        \n",
    "        self.cl2 = nn.Sequential(\n",
    "            nn.Conv2d(out_channels, out_channels, 3, 1, 1),\n",
    "            nn.BatchNorm2d(out_channels)\n",
    "        )\n",
    "        \n",
    "    def forward(self, x):\n",
    "        identity = x\n",
    "        x = self.cl1(x)\n",
    "        x = self.cl2(x)\n",
    "        if self.downsample:\n",
    "            identity = self.downsample(identity)\n",
    "        x = self.relu(x + identity)\n",
    "        return x\n",
    "    \n",
    "    \n",
    "class ConvolutionalEmbedding(nn.Module):\n",
    "    def __init__(self, block, layers, in_channels=1, out_channels=64, embed_dim=128):\n",
    "        super().__init__()\n",
    "        self.in_planes = 64\n",
    "        \n",
    "        self.cl1 = nn.Sequential(\n",
    "            nn.Conv2d(in_channels, out_channels, 4, 1, 1),\n",
    "            nn.BatchNorm2d(out_channels),\n",
    "            nn.ReLU()\n",
    "        )\n",
    "        \n",
    "        self.maxpool1 = nn.MaxPool2d(3, 2, 1)\n",
    "        self.layer0 = self._make_layer(block, 64, layers[0], stride = 1)\n",
    "        self.layer1 = self._make_layer(block, 128, layers[1], stride = 2)\n",
    "        self.layer2 = self._make_layer(block, 256, layers[2], stride = 2)\n",
    "        self.layer3 = self._make_layer(block, 512, layers[3], stride = 2)\n",
    "        self.maxpool2 = nn.MaxPool2d(4, stride=2)\n",
    "        self.fc = nn.Sequential(\n",
    "            nn.Flatten(),\n",
    "            nn.Linear(2*512, embed_dim)\n",
    "        )\n",
    "        \n",
    "    def _make_layer(self, block, planes, blocks, stride=1):\n",
    "        downsample = None\n",
    "        if stride != 1 or self.in_planes != planes:\n",
    "            downsample = nn.Sequential(\n",
    "                nn.Conv2d(self.in_planes, planes, kernel_size=1, stride=stride),\n",
    "                nn.BatchNorm2d(planes)\n",
    "            )\n",
    "        layers = []\n",
    "        layers.append(block(self.in_planes, planes, stride, downsample))\n",
    "        self.in_planes = planes\n",
    "        for i in range(1, blocks):\n",
    "            layers.append(block(self.in_planes, planes))\n",
    "\n",
    "        return nn.Sequential(*layers)\n",
    "        \n",
    "        \n",
    "    def forward(self, x):\n",
    "        x = self.cl1(x)\n",
    "        x = self.maxpool1(x)\n",
    "        \n",
    "        x = self.layer0(x)\n",
    "        x = self.layer1(x)\n",
    "        x = self.layer2(x)\n",
    "        x = self.layer3(x)\n",
    "        x = self.maxpool2(x)\n",
    "\n",
    "        x = self.fc(x)\n",
    "        \n",
    "        return x    "
   ]
  },
  {
   "cell_type": "code",
   "execution_count": 3,
   "metadata": {
    "execution": {
     "iopub.execute_input": "2024-11-04T14:13:48.936833Z",
     "iopub.status.busy": "2024-11-04T14:13:48.935663Z",
     "iopub.status.idle": "2024-11-04T14:13:52.231452Z",
     "shell.execute_reply": "2024-11-04T14:13:52.230653Z",
     "shell.execute_reply.started": "2024-11-04T14:13:48.936788Z"
    },
    "tags": []
   },
   "outputs": [],
   "source": [
    "import models.data_loader as dl\n",
    "from utils import initialize_logging, load_config\n",
    "\n",
    "config = load_config(config_path=\"./config/config.yaml\")\n",
    "initialize_logging(config_path=\"./config/logging_config.yaml\", debug=False)\n",
    "\n",
    "train_loader = DataLoader(\n",
    "        dl.CoverDataset(data_path='dataset', file_ext='npy', \n",
    "                        dataset_path='dataset/train', data_split='train', debug=False, max_len=128),\n",
    "        batch_size=128,\n",
    "        num_workers=0,\n",
    "        shuffle=True,\n",
    "        drop_last=False\n",
    "    )\n",
    "\n",
    "val_loader = DataLoader(\n",
    "        dl.CoverDataset(data_path='dataset', file_ext='npy', \n",
    "                        dataset_path='dataset/train', data_split='val', debug=False, max_len=128),\n",
    "        batch_size=16,\n",
    "        num_workers=0,\n",
    "        shuffle=False,\n",
    "        drop_last=False\n",
    "    )"
   ]
  },
  {
   "cell_type": "code",
   "execution_count": 7,
   "metadata": {
    "execution": {
     "iopub.execute_input": "2024-11-04T15:00:57.084517Z",
     "iopub.status.busy": "2024-11-04T15:00:57.083564Z",
     "iopub.status.idle": "2024-11-04T15:00:57.118416Z",
     "shell.execute_reply": "2024-11-04T15:00:57.117581Z",
     "shell.execute_reply.started": "2024-11-04T15:00:57.084479Z"
    },
    "tags": []
   },
   "outputs": [],
   "source": [
    "def eval_metrics_embed(anchor_embed, pos_embed, neg_embed):\n",
    "    cos = nn.CosineSimilarity(dim=0, eps=1e-6)\n",
    "    if (0.5 - cos(anchor_embed, pos_embed) + cos(anchor_embed, neg_embed)) < 0.0:\n",
    "        return 1\n",
    "    return 0\n",
    "\n",
    "def eval_metrics(anchor_logit, pos_logit, neg_logit):\n",
    "    return np.sum([eval_metrics_embed(anchor_logit[i], pos_logit[i], neg_logit[i]) \n",
    "            for i in range(len(anchor_logit))])\n",
    "\n",
    "def evaluate(model, data_loader, loss_fn, batch_size):\n",
    "    loss = 0\n",
    "    accuracy = 0\n",
    "    batch_count = 0\n",
    "\n",
    "    model.eval()\n",
    "\n",
    "    for i, batch in enumerate(tqdm(data_loader)):\n",
    "        with torch.no_grad():\n",
    "\n",
    "            X_anchor = batch['anchor'][:, None, :, :].to(device)\n",
    "            X_pos = batch['positive'][:, None, :, :].to(device)\n",
    "            X_neg = batch['negative'][:, None, :, :].to(device)\n",
    "\n",
    "\n",
    "            anchor_logit = model(X_anchor)\n",
    "            pos_logit = model(X_pos)\n",
    "            neg_logit = model(X_neg)\n",
    "\n",
    "            loss += loss_fn(anchor_logit, pos_logit, neg_logit)\n",
    "            accuracy += eval_metrics(anchor_logit, pos_logit, neg_logit)\n",
    "            batch_count += 1\n",
    "\n",
    "    loss /= batch_count\n",
    "    accuracy /= (batch_count * batch_size)\n",
    "    \n",
    "    return accuracy, loss.item()"
   ]
  },
  {
   "cell_type": "code",
   "execution_count": 5,
   "metadata": {
    "execution": {
     "iopub.execute_input": "2024-11-04T14:13:59.835123Z",
     "iopub.status.busy": "2024-11-04T14:13:59.833812Z",
     "iopub.status.idle": "2024-11-04T14:13:59.856819Z",
     "shell.execute_reply": "2024-11-04T14:13:59.855923Z",
     "shell.execute_reply.started": "2024-11-04T14:13:59.835079Z"
    },
    "tags": []
   },
   "outputs": [],
   "source": [
    "def train(model, device):\n",
    "    optim = torch.optim.Adam(model.parameters(), lr=0.0006)\n",
    "    loss_fn = nn.TripletMarginWithDistanceLoss(margin=0.5,  swap=False,\n",
    "                                               distance_function=(lambda x, y: 1.0 - f.cosine_similarity(x, y)))\n",
    "    n_epochs = 10\n",
    "    batch_size = 128\n",
    "\n",
    "    for epoch in range(n_epochs):\n",
    "        tqdm_loader = tqdm(train_loader)\n",
    "        for i, batch in enumerate(tqdm_loader):\n",
    "            model.train()\n",
    "\n",
    "            X_anchor = batch['anchor'][:, None, :, :].to(device)\n",
    "            X_pos = batch['positive'][:, None, :, :].to(device)\n",
    "            X_neg = batch['negative'][:, None, :, :].to(device)\n",
    "\n",
    "            anchor_logit = model(X_anchor)\n",
    "            pos_logit = model(X_pos)\n",
    "            neg_logit = model(X_neg)\n",
    "\n",
    "            loss = loss_fn(anchor_logit, pos_logit, neg_logit)\n",
    "            tqdm_loader.set_postfix({\"loss\":loss.item()})\n",
    "\n",
    "            optim.zero_grad() \n",
    "            loss.backward()\n",
    "            optim.step()\n",
    "\n",
    "        print('On epoch end', epoch)\n",
    "        acc_val_epoch, loss_val_epoch = evaluate(model, val_loader, loss_fn, 16)\n",
    "        print('Val acc:', acc_val_epoch, 'Val loss:', loss_val_epoch)\n",
    "        torch.save(model, 'cover_embedding_2.pth')"
   ]
  },
  {
   "cell_type": "code",
   "execution_count": null,
   "metadata": {
    "tags": []
   },
   "outputs": [],
   "source": [
    "#model create + train\n",
    "device = torch.device('cuda' if torch.cuda.is_available() else 'cpu')\n",
    "\n",
    "embed_dim = 128\n",
    "model = ConvolutionalEmbedding(Block, layers=[3, 3, 3, 4])\n",
    "model.to(device)\n",
    "\n",
    "train(model, device)"
   ]
  },
  {
   "cell_type": "code",
   "execution_count": 9,
   "metadata": {
    "execution": {
     "iopub.execute_input": "2024-11-04T15:04:40.098051Z",
     "iopub.status.busy": "2024-11-04T15:04:40.096968Z",
     "iopub.status.idle": "2024-11-04T19:28:30.622915Z",
     "shell.execute_reply": "2024-11-04T19:28:30.621703Z",
     "shell.execute_reply.started": "2024-11-04T15:04:40.098003Z"
    },
    "tags": []
   },
   "outputs": [
    {
     "data": {
      "application/vnd.jupyter.widget-view+json": {
       "model_id": "f964f09798384559b4f8ee9b530709ad",
       "version_major": 2,
       "version_minor": 0
      },
      "text/plain": [
       "  0%|          | 0/2337 [00:00<?, ?it/s]"
      ]
     },
     "metadata": {},
     "output_type": "display_data"
    },
    {
     "name": "stdout",
     "output_type": "stream",
     "text": [
      "On epoch end 0\n"
     ]
    },
    {
     "data": {
      "application/vnd.jupyter.widget-view+json": {
       "model_id": "5c135986a1ca44b6b5a30e60fe112f6e",
       "version_major": 2,
       "version_minor": 0
      },
      "text/plain": [
       "  0%|          | 0/993 [00:00<?, ?it/s]"
      ]
     },
     "metadata": {},
     "output_type": "display_data"
    },
    {
     "name": "stdout",
     "output_type": "stream",
     "text": [
      "Val acc: 0.5450025176233635 Val loss: 0.19344429671764374\n"
     ]
    },
    {
     "data": {
      "application/vnd.jupyter.widget-view+json": {
       "model_id": "fe4327fd1a5b4a398bf5407ffbda0a1b",
       "version_major": 2,
       "version_minor": 0
      },
      "text/plain": [
       "  0%|          | 0/2337 [00:00<?, ?it/s]"
      ]
     },
     "metadata": {},
     "output_type": "display_data"
    },
    {
     "name": "stdout",
     "output_type": "stream",
     "text": [
      "On epoch end 1\n"
     ]
    },
    {
     "data": {
      "application/vnd.jupyter.widget-view+json": {
       "model_id": "d4ee51f0dd0341259f72743524c3e7d6",
       "version_major": 2,
       "version_minor": 0
      },
      "text/plain": [
       "  0%|          | 0/993 [00:00<?, ?it/s]"
      ]
     },
     "metadata": {},
     "output_type": "display_data"
    },
    {
     "name": "stdout",
     "output_type": "stream",
     "text": [
      "Val acc: 0.5582829808660624 Val loss: 0.18497303128242493\n"
     ]
    },
    {
     "data": {
      "application/vnd.jupyter.widget-view+json": {
       "model_id": "bbf085da13df452ba438c0c13a51f2fe",
       "version_major": 2,
       "version_minor": 0
      },
      "text/plain": [
       "  0%|          | 0/2337 [00:00<?, ?it/s]"
      ]
     },
     "metadata": {},
     "output_type": "display_data"
    },
    {
     "name": "stdout",
     "output_type": "stream",
     "text": [
      "On epoch end 2\n"
     ]
    },
    {
     "data": {
      "application/vnd.jupyter.widget-view+json": {
       "model_id": "f41bea3cedaf4e239fd766006b2cfc90",
       "version_major": 2,
       "version_minor": 0
      },
      "text/plain": [
       "  0%|          | 0/993 [00:00<?, ?it/s]"
      ]
     },
     "metadata": {},
     "output_type": "display_data"
    },
    {
     "name": "stdout",
     "output_type": "stream",
     "text": [
      "Val acc: 0.5713746223564955 Val loss: 0.17893880605697632\n"
     ]
    },
    {
     "data": {
      "application/vnd.jupyter.widget-view+json": {
       "model_id": "ced768a912b64e9b88a11d641cb7b9e2",
       "version_major": 2,
       "version_minor": 0
      },
      "text/plain": [
       "  0%|          | 0/2337 [00:00<?, ?it/s]"
      ]
     },
     "metadata": {},
     "output_type": "display_data"
    },
    {
     "name": "stdout",
     "output_type": "stream",
     "text": [
      "On epoch end 3\n"
     ]
    },
    {
     "data": {
      "application/vnd.jupyter.widget-view+json": {
       "model_id": "8eeafa04f98343c9ab108f5e3f337a88",
       "version_major": 2,
       "version_minor": 0
      },
      "text/plain": [
       "  0%|          | 0/993 [00:00<?, ?it/s]"
      ]
     },
     "metadata": {},
     "output_type": "display_data"
    },
    {
     "name": "stdout",
     "output_type": "stream",
     "text": [
      "Val acc: 0.5627517623363545 Val loss: 0.18025220930576324\n"
     ]
    },
    {
     "data": {
      "application/vnd.jupyter.widget-view+json": {
       "model_id": "a017c53286234931b2a360f0d100d48e",
       "version_major": 2,
       "version_minor": 0
      },
      "text/plain": [
       "  0%|          | 0/2337 [00:00<?, ?it/s]"
      ]
     },
     "metadata": {},
     "output_type": "display_data"
    },
    {
     "name": "stdout",
     "output_type": "stream",
     "text": [
      "On epoch end 4\n"
     ]
    },
    {
     "data": {
      "application/vnd.jupyter.widget-view+json": {
       "model_id": "be4abe2fc08d4c4fbf6894077533c53e",
       "version_major": 2,
       "version_minor": 0
      },
      "text/plain": [
       "  0%|          | 0/993 [00:00<?, ?it/s]"
      ]
     },
     "metadata": {},
     "output_type": "display_data"
    },
    {
     "name": "stdout",
     "output_type": "stream",
     "text": [
      "Val acc: 0.5912638469284995 Val loss: 0.1701125055551529\n"
     ]
    },
    {
     "data": {
      "application/vnd.jupyter.widget-view+json": {
       "model_id": "451f63f21e31407b9592a0c53fffa115",
       "version_major": 2,
       "version_minor": 0
      },
      "text/plain": [
       "  0%|          | 0/2337 [00:00<?, ?it/s]"
      ]
     },
     "metadata": {},
     "output_type": "display_data"
    },
    {
     "name": "stdout",
     "output_type": "stream",
     "text": [
      "On epoch end 5\n"
     ]
    },
    {
     "data": {
      "application/vnd.jupyter.widget-view+json": {
       "model_id": "000c0df507a44a8bbeab589718fe0151",
       "version_major": 2,
       "version_minor": 0
      },
      "text/plain": [
       "  0%|          | 0/993 [00:00<?, ?it/s]"
      ]
     },
     "metadata": {},
     "output_type": "display_data"
    },
    {
     "name": "stdout",
     "output_type": "stream",
     "text": [
      "Val acc: 0.5916414904330313 Val loss: 0.16651886701583862\n"
     ]
    },
    {
     "data": {
      "application/vnd.jupyter.widget-view+json": {
       "model_id": "bb992b3032974694a18ce686f29f079a",
       "version_major": 2,
       "version_minor": 0
      },
      "text/plain": [
       "  0%|          | 0/2337 [00:00<?, ?it/s]"
      ]
     },
     "metadata": {},
     "output_type": "display_data"
    },
    {
     "name": "stdout",
     "output_type": "stream",
     "text": [
      "On epoch end 6\n"
     ]
    },
    {
     "data": {
      "application/vnd.jupyter.widget-view+json": {
       "model_id": "701f6d4f68e14eb094437858e7a7ed24",
       "version_major": 2,
       "version_minor": 0
      },
      "text/plain": [
       "  0%|          | 0/993 [00:00<?, ?it/s]"
      ]
     },
     "metadata": {},
     "output_type": "display_data"
    },
    {
     "name": "stdout",
     "output_type": "stream",
     "text": [
      "Val acc: 0.5804380664652568 Val loss: 0.1659110188484192\n"
     ]
    },
    {
     "data": {
      "application/vnd.jupyter.widget-view+json": {
       "model_id": "f2ab99a489714dbd9c47356da6299ffe",
       "version_major": 2,
       "version_minor": 0
      },
      "text/plain": [
       "  0%|          | 0/2337 [00:00<?, ?it/s]"
      ]
     },
     "metadata": {},
     "output_type": "display_data"
    },
    {
     "name": "stdout",
     "output_type": "stream",
     "text": [
      "On epoch end 7\n"
     ]
    },
    {
     "data": {
      "application/vnd.jupyter.widget-view+json": {
       "model_id": "706314da16d745039e933e9af7d62e1f",
       "version_major": 2,
       "version_minor": 0
      },
      "text/plain": [
       "  0%|          | 0/993 [00:00<?, ?it/s]"
      ]
     },
     "metadata": {},
     "output_type": "display_data"
    },
    {
     "name": "stdout",
     "output_type": "stream",
     "text": [
      "Val acc: 0.6060548841893253 Val loss: 0.1590486466884613\n"
     ]
    },
    {
     "data": {
      "application/vnd.jupyter.widget-view+json": {
       "model_id": "6341afd2fac7417c971e1c0ccf69139f",
       "version_major": 2,
       "version_minor": 0
      },
      "text/plain": [
       "  0%|          | 0/2337 [00:00<?, ?it/s]"
      ]
     },
     "metadata": {},
     "output_type": "display_data"
    },
    {
     "name": "stdout",
     "output_type": "stream",
     "text": [
      "On epoch end 8\n"
     ]
    },
    {
     "data": {
      "application/vnd.jupyter.widget-view+json": {
       "model_id": "5a273ab5f2874111ab3cba25d94ab662",
       "version_major": 2,
       "version_minor": 0
      },
      "text/plain": [
       "  0%|          | 0/993 [00:00<?, ?it/s]"
      ]
     },
     "metadata": {},
     "output_type": "display_data"
    },
    {
     "name": "stdout",
     "output_type": "stream",
     "text": [
      "Val acc: 0.6113418932527693 Val loss: 0.14787407219409943\n"
     ]
    },
    {
     "data": {
      "application/vnd.jupyter.widget-view+json": {
       "model_id": "6bc651fc8fd2461d86eceed4abac2f61",
       "version_major": 2,
       "version_minor": 0
      },
      "text/plain": [
       "  0%|          | 0/2337 [00:00<?, ?it/s]"
      ]
     },
     "metadata": {},
     "output_type": "display_data"
    },
    {
     "ename": "KeyboardInterrupt",
     "evalue": "",
     "output_type": "error",
     "traceback": [
      "\u001b[0;31m---------------------------------------------------------------------------\u001b[0m",
      "\u001b[0;31mKeyboardInterrupt\u001b[0m                         Traceback (most recent call last)",
      "\u001b[0;32m/tmp/ipykernel_2673/3697912921.py\u001b[0m in \u001b[0;36m<cell line: 8>\u001b[0;34m()\u001b[0m\n\u001b[1;32m      6\u001b[0m \u001b[0mmodel\u001b[0m\u001b[0;34m.\u001b[0m\u001b[0mto\u001b[0m\u001b[0;34m(\u001b[0m\u001b[0mdevice\u001b[0m\u001b[0;34m)\u001b[0m\u001b[0;34m\u001b[0m\u001b[0;34m\u001b[0m\u001b[0m\n\u001b[1;32m      7\u001b[0m \u001b[0;34m\u001b[0m\u001b[0m\n\u001b[0;32m----> 8\u001b[0;31m \u001b[0mtrain\u001b[0m\u001b[0;34m(\u001b[0m\u001b[0mmodel\u001b[0m\u001b[0;34m,\u001b[0m \u001b[0mdevice\u001b[0m\u001b[0;34m)\u001b[0m\u001b[0;34m\u001b[0m\u001b[0;34m\u001b[0m\u001b[0m\n\u001b[0m",
      "\u001b[0;32m/tmp/ipykernel_2673/65877317.py\u001b[0m in \u001b[0;36mtrain\u001b[0;34m(model, device)\u001b[0m\n\u001b[1;32m     20\u001b[0m \u001b[0;34m\u001b[0m\u001b[0m\n\u001b[1;32m     21\u001b[0m             \u001b[0mloss\u001b[0m \u001b[0;34m=\u001b[0m \u001b[0mloss_fn\u001b[0m\u001b[0;34m(\u001b[0m\u001b[0manchor_logit\u001b[0m\u001b[0;34m,\u001b[0m \u001b[0mpos_logit\u001b[0m\u001b[0;34m,\u001b[0m \u001b[0mneg_logit\u001b[0m\u001b[0;34m)\u001b[0m\u001b[0;34m\u001b[0m\u001b[0;34m\u001b[0m\u001b[0m\n\u001b[0;32m---> 22\u001b[0;31m             \u001b[0mtqdm_loader\u001b[0m\u001b[0;34m.\u001b[0m\u001b[0mset_postfix\u001b[0m\u001b[0;34m(\u001b[0m\u001b[0;34m{\u001b[0m\u001b[0;34m\"loss\"\u001b[0m\u001b[0;34m:\u001b[0m\u001b[0mloss\u001b[0m\u001b[0;34m.\u001b[0m\u001b[0mitem\u001b[0m\u001b[0;34m(\u001b[0m\u001b[0;34m)\u001b[0m\u001b[0;34m}\u001b[0m\u001b[0;34m)\u001b[0m\u001b[0;34m\u001b[0m\u001b[0;34m\u001b[0m\u001b[0m\n\u001b[0m\u001b[1;32m     23\u001b[0m \u001b[0;34m\u001b[0m\u001b[0m\n\u001b[1;32m     24\u001b[0m             \u001b[0moptim\u001b[0m\u001b[0;34m.\u001b[0m\u001b[0mzero_grad\u001b[0m\u001b[0;34m(\u001b[0m\u001b[0;34m)\u001b[0m\u001b[0;34m\u001b[0m\u001b[0;34m\u001b[0m\u001b[0m\n",
      "\u001b[0;31mKeyboardInterrupt\u001b[0m: "
     ]
    }
   ],
   "source": [
    "#load model + train\n",
    "device = torch.device('cuda' if torch.cuda.is_available() else 'cpu')\n",
    "\n",
    "embed_dim = 128\n",
    "model = torch.load('cover_embedding_2.pth')\n",
    "model.to(device)\n",
    "\n",
    "train(model, device)"
   ]
  },
  {
   "cell_type": "code",
   "execution_count": 4,
   "metadata": {
    "execution": {
     "iopub.execute_input": "2024-11-04T20:03:21.702537Z",
     "iopub.status.busy": "2024-11-04T20:03:21.701646Z",
     "iopub.status.idle": "2024-11-04T20:13:38.803851Z",
     "shell.execute_reply": "2024-11-04T20:13:38.802635Z",
     "shell.execute_reply.started": "2024-11-04T20:03:21.702503Z"
    },
    "tags": []
   },
   "outputs": [],
   "source": [
    "import models.data_loader as dl\n",
    "from utils import initialize_logging, load_config\n",
    "\n",
    "test_data = dl.CoverDataset(data_path='dataset', dataset_path='dataset/test', file_ext='npy', data_split='test', debug=False, max_len=128)\n",
    "embed_dim = 128\n",
    "\n",
    "model = torch.load('cover_embedding_2.pth').to('cuda')\n",
    "\n",
    "X_id = torch.zeros(len(test_data))\n",
    "X_embed = torch.zeros((len(test_data), embed_dim))\n",
    "\n",
    "with torch.no_grad():\n",
    "    model.eval()\n",
    "    for i in range(len(test_data)):\n",
    "        X_id[i] = test_data[i]['anchor_id']\n",
    "        X = test_data[i]['anchor']\n",
    "        X = torch.unsqueeze(X, 0)\n",
    "        X = X[:, None, :, :].to('cuda')\n",
    "        X_embed[i] = model(X)"
   ]
  },
  {
   "cell_type": "code",
   "execution_count": 24,
   "metadata": {
    "execution": {
     "iopub.execute_input": "2024-11-04T19:47:37.765840Z",
     "iopub.status.busy": "2024-11-04T19:47:37.764855Z",
     "iopub.status.idle": "2024-11-04T19:47:44.916715Z",
     "shell.execute_reply": "2024-11-04T19:47:44.915855Z",
     "shell.execute_reply.started": "2024-11-04T19:47:37.765794Z"
    },
    "tags": []
   },
   "outputs": [],
   "source": [
    "#write embeddings to the file\n",
    "f = open('embeddings.txt', 'w')\n",
    "\n",
    "for i in range(len(X_id)):\n",
    "    \n",
    "    line = str(X_id[i])\n",
    "    for j in range(len(X_embed[i])):\n",
    "        line += \" \" + str(X_embed[i][j])\n",
    "    line += \"\\n\"\n",
    "        \n",
    "    f.write(line)\n",
    "        \n",
    "f.close()"
   ]
  },
  {
   "cell_type": "code",
   "execution_count": null,
   "metadata": {
    "tags": []
   },
   "outputs": [],
   "source": [
    "#dist matrix init\n",
    "\n",
    "cos = nn.CosineSimilarity(dim=0, eps=1e-6)\n",
    "dists = torch.zeros((X_embed.shape[0], X_embed.shape[0]))\n",
    "for i in range(X_embed.shape[0]):\n",
    "    for j in range(i, X_embed.shape[0]):\n",
    "        dists[i, j] = 1.0 - cos(X_embed[i], X_embed[j])\n",
    "        dists[j, i] = dists[i, j]\n",
    "dists = dists.numpy()\n",
    "\n",
    "dists"
   ]
  },
  {
   "cell_type": "code",
   "execution_count": null,
   "metadata": {},
   "outputs": [],
   "source": [
    "#solution\n",
    "\n",
    "f = open('solution.txt', 'w')\n",
    "\n",
    "for i in range(dists.shape[0]):\n",
    "    dists[i,i] = np.inf\n",
    "    idx = np.argpartition(dists[i], 100)[:100]\n",
    "    line = str(X_id[i])\n",
    "    for j in idx:\n",
    "        line += \" \" + str(X_id[j]) \n",
    "        \n",
    "    line += \"\\n\"\n",
    "    f.write(line)\n",
    "    \n",
    "f.close()"
   ]
  }
 ],
 "metadata": {
  "kernelspec": {
   "display_name": "DataSphere Kernel",
   "language": "python",
   "name": "python3"
  },
  "language_info": {
   "codemirror_mode": {
    "name": "ipython",
    "version": 3
   },
   "file_extension": ".py",
   "mimetype": "text/x-python",
   "name": "python",
   "nbconvert_exporter": "python",
   "pygments_lexer": "ipython3",
   "version": "3.10.12"
  }
 },
 "nbformat": 4,
 "nbformat_minor": 4
}
